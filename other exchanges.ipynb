{
 "cells": [
  {
   "cell_type": "code",
   "execution_count": null,
   "metadata": {},
   "outputs": [],
   "source": [
    "import json\n",
    "from ws4py.client.threadedclient import WebSocketClient\n",
    "\n",
    "class CG_Client(WebSocketClient):\n",
    "\n",
    "    def opened(self):\n",
    "        req = '{\"type\": \"subscribe\",\"product_ids\": [\"BTC-USD\"],\"channels\": \\\n",
    "        [\"matches\"]}'\n",
    "        self.send(req)\n",
    "\n",
    "    def closed(self, code, reason=None):\n",
    "        print(\"Closed down:\", code, reason)\n",
    "\n",
    "    def received_message(self, resp):\n",
    "        resp = json.loads(str(resp))\n",
    "        #data = resp['data']\n",
    "        print(\"loading..../n\")\n",
    "        print(resp)\n",
    "#         if type(data) is dict:\n",
    "#             ask = data['asks'][0]\n",
    "#             print('Ask:', ask)\n",
    "#             bid = data['bids'][0]\n",
    "#             print('Bid:', bid)\n",
    "\n",
    "\n",
    "if __name__ == '__main__':\n",
    "    ws = None\n",
    "    try:\n",
    "        ws = CG_Client('wss://ws-feed.pro.coinbase.com')\n",
    "        ws.connect()\n",
    "        ws.run_forever()\n",
    "    except KeyboardInterrupt:\n",
    "        ws.close()"
   ]
  },
  {
   "cell_type": "code",
   "execution_count": null,
   "metadata": {},
   "outputs": [],
   "source": [
    "wss://stream.binance.com:9443"
   ]
  },
  {
   "cell_type": "code",
   "execution_count": 3,
   "metadata": {
    "scrolled": true
   },
   "outputs": [
    {
     "name": "stdout",
     "output_type": "stream",
     "text": [
      "loading..../n\n",
      "{u'a': [[u'0.00413840', u'223.05000000'], [u'0.00413870', u'0.00000000'], [u'0.00413970', u'0.00000000'], [u'0.00428640', u'6.83000000']], u'b': [[u'0.00410280', u'0.00000000'], [u'0.00409550', u'14.39000000'], [u'0.00409500', u'117.16000000']], u'E': 1553786307061, u's': u'BNBBTC', u'u': 213859746, u'e': u'depthUpdate', u'U': 213859740}\n",
      "loading..../n\n",
      "{u'a': [[u'0.00413850', u'117.34000000']], u'b': [[u'0.00413260', u'2.80000000'], [u'0.00410510', u'1.53000000']], u'E': 1553786308061, u's': u'BNBBTC', u'u': 213859749, u'e': u'depthUpdate', u'U': 213859747}\n",
      "loading..../n\n",
      "{u'a': [[u'0.00415330', u'50.62000000']], u'b': [[u'0.00413430', u'0.63000000']], u'E': 1553786309061, u's': u'BNBBTC', u'u': 213859751, u'e': u'depthUpdate', u'U': 213859750}\n",
      "loading..../n\n",
      "{u'a': [[u'0.00413230', u'0.00000000'], [u'0.00413500', u'742.22000000']], u'b': [[u'0.00413430', u'0.00000000'], [u'0.00413260', u'0.00000000'], [u'0.00413230', u'9.91000000'], [u'0.00413200', u'53.41000000'], [u'0.00413040', u'0.00000000']], u'E': 1553786313062, u's': u'BNBBTC', u'u': 213859757, u'e': u'depthUpdate', u'U': 213859752}\n",
      "loading..../n\n",
      "{u'a': [[u'0.00413260', u'0.00000000'], [u'0.00413440', u'7.24000000'], [u'0.00413450', u'151.65000000']], u'b': [[u'0.00413250', u'9.91000000'], [u'0.00413240', u'54.57000000'], [u'0.00413230', u'0.00000000'], [u'0.00412790', u'226.92000000'], [u'0.00412770', u'0.00000000']], u'E': 1553786314061, u's': u'BNBBTC', u'u': 213859766, u'e': u'depthUpdate', u'U': 213859758}\n",
      "loading..../n\n",
      "{u'a': [[u'0.00413440', u'6.29000000'], [u'0.00428260', u'9.14000000']], u'b': [], u'E': 1553786317061, u's': u'BNBBTC', u'u': 213859768, u'e': u'depthUpdate', u'U': 213859767}\n",
      "loading..../n\n",
      "{u'a': [[u'0.00423100', u'0.60000000']], u'b': [[u'0.00413240', u'0.00000000']], u'E': 1553786318061, u's': u'BNBBTC', u'u': 213859770, u'e': u'depthUpdate', u'U': 213859769}\n",
      "loading..../n\n",
      "{u'a': [[u'0.00413430', u'194.03000000'], [u'0.00413450', u'0.00000000'], [u'0.00415140', u'323.50000000']], u'b': [], u'E': 1553786319061, u's': u'BNBBTC', u'u': 213859773, u'e': u'depthUpdate', u'U': 213859771}\n",
      "loading..../n\n",
      "{u'a': [[u'0.00413430', u'0.00000000'], [u'0.00413490', u'0.00000000'], [u'0.00413620', u'35.94000000']], u'b': [[u'0.00413340', u'0.00000000'], [u'0.00413260', u'54.57000000'], [u'0.00413020', u'0.00000000'], [u'0.00413010', u'588.97000000'], [u'0.00412800', u'142.03000000'], [u'0.00412780', u'0.00000000'], [u'0.00412740', u'0.00000000'], [u'0.00412540', u'15.06000000'], [u'0.00368900', u'20.76000000']], u'E': 1553786320061, u's': u'BNBBTC', u'u': 213859786, u'e': u'depthUpdate', u'U': 213859774}\n",
      "loading..../n\n",
      "{u'a': [[u'0.00430300', u'18.15000000'], [u'0.00538270', u'0.00000000']], u'b': [], u'E': 1553786321061, u's': u'BNBBTC', u'u': 213859788, u'e': u'depthUpdate', u'U': 213859787}\n"
     ]
    }
   ],
   "source": [
    "import json\n",
    "from ws4py.client.threadedclient import WebSocketClient\n",
    "\n",
    "class newClient(WebSocketClient):\n",
    "\n",
    "    def closed(self, code, reason=None):\n",
    "        print(\"Closed down:\", code, reason)\n",
    "\n",
    "    def received_message(self, resp):\n",
    "        resp = json.loads(str(resp))\n",
    "        #data = resp['data']\n",
    "        print(\"loading..../n\")\n",
    "        print(resp)\n",
    "        \n",
    "ws = None\n",
    "try:\n",
    "    ws = newClient('wss://stream.binance.com:9443/ws/bnbbtc@depth')\n",
    "    ws.connect()\n",
    "    ws.run_forever()\n",
    "except KeyboardInterrupt:\n",
    "    ws.close()"
   ]
  },
  {
   "cell_type": "code",
   "execution_count": 11,
   "metadata": {},
   "outputs": [
    {
     "data": {
      "text/plain": [
       "Timestamp('2019-03-28 15:18:28.061000')"
      ]
     },
     "execution_count": 11,
     "metadata": {},
     "output_type": "execute_result"
    }
   ],
   "source": [
    "import pandas as pd\n",
    "from datetime import datetime\n",
    "\n",
    "pd.to_datetime(1553786308061, unit = 'ms')"
   ]
  }
 ],
 "metadata": {
  "kernelspec": {
   "display_name": "Python 2",
   "language": "python",
   "name": "python2"
  },
  "language_info": {
   "codemirror_mode": {
    "name": "ipython",
    "version": 2
   },
   "file_extension": ".py",
   "mimetype": "text/x-python",
   "name": "python",
   "nbconvert_exporter": "python",
   "pygments_lexer": "ipython2",
   "version": "2.7.15"
  }
 },
 "nbformat": 4,
 "nbformat_minor": 2
}
