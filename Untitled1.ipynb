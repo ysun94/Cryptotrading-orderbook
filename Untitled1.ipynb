{
 "cells": [
  {
   "cell_type": "markdown",
   "metadata": {},
   "source": [
    "## Fetching data from exchanges"
   ]
  },
  {
   "cell_type": "markdown",
   "metadata": {},
   "source": [
    "### Coinbase"
   ]
  },
  {
   "cell_type": "code",
   "execution_count": 2,
   "metadata": {},
   "outputs": [],
   "source": [
    "import json\n",
    "from ws4py.client.threadedclient import WebSocketClient"
   ]
  },
  {
   "cell_type": "code",
   "execution_count": null,
   "metadata": {},
   "outputs": [],
   "source": [
    "class Client(WebSocketClient):\n",
    "\n",
    "    def __init__(self, url):\n",
    "        WebSocketClient.__init__(self, url)\n",
    "        # self.flag = 0\n",
    "\n",
    "    def opened(self):\n",
    "        req = '{\"type\": \"subscribe\",\"product_ids\": [\"BTC-USD\"],\"channels\": \\\n",
    "        [\"level2\"]}' \n",
    "        self.send(req)\n",
    "\n",
    "    def closed(self, code, reason=None):\n",
    "        print(\"Closed down:\", code, reason)\n",
    "\n",
    "    def received_message(self, resp):\n",
    "        resp = json.loads(str(resp))\n",
    "\n",
    "        with open(\"/Users/sunyan/blockchainAnalytics/Order Book Reconstruction/level2orders_coinbase.json\",\"a\") as f:\n",
    "                json.dump(resp,f)\n",
    "                f.write(\"\\n\")\n",
    "                print(\"Orders are being downloaded.\")\n",
    "\n",
    "\n",
    "if __name__ == '__main__':\n",
    "    f = open(\"/Users/sunyan/blockchainAnalytics/Order Book Reconstruction/level2orders_coinbase.json\",\"w\")\n",
    "    f.truncate()\n",
    "    ws = None\n",
    "    try:\n",
    "        ws = Client('wss://ws-feed.pro.coinbase.com')\n",
    "        ws.connect()\n",
    "        ws.run_forever()\n",
    "    except KeyboardInterrupt:\n",
    "        ws.close()\n"
   ]
  },
  {
   "cell_type": "code",
   "execution_count": 5,
   "metadata": {},
   "outputs": [
    {
     "ename": "HandshakeError",
     "evalue": "Invalid response status: 404 Not Found",
     "output_type": "error",
     "traceback": [
      "\u001b[0;31m---------------------------------------------------------------------------\u001b[0m",
      "\u001b[0;31mHandshakeError\u001b[0m                            Traceback (most recent call last)",
      "\u001b[0;32m<ipython-input-5-f6085c1d6836>\u001b[0m in \u001b[0;36m<module>\u001b[0;34m()\u001b[0m\n\u001b[1;32m     27\u001b[0m     \u001b[0;32mtry\u001b[0m\u001b[0;34m:\u001b[0m\u001b[0;34m\u001b[0m\u001b[0m\n\u001b[1;32m     28\u001b[0m         \u001b[0mws\u001b[0m \u001b[0;34m=\u001b[0m \u001b[0mClient\u001b[0m\u001b[0;34m(\u001b[0m\u001b[0;34m'wss://stream.binance.com:9443'\u001b[0m\u001b[0;34m)\u001b[0m\u001b[0;34m\u001b[0m\u001b[0m\n\u001b[0;32m---> 29\u001b[0;31m         \u001b[0mws\u001b[0m\u001b[0;34m.\u001b[0m\u001b[0mconnect\u001b[0m\u001b[0;34m(\u001b[0m\u001b[0;34m)\u001b[0m\u001b[0;34m\u001b[0m\u001b[0m\n\u001b[0m\u001b[1;32m     30\u001b[0m         \u001b[0mws\u001b[0m\u001b[0;34m.\u001b[0m\u001b[0mrun_forever\u001b[0m\u001b[0;34m(\u001b[0m\u001b[0;34m)\u001b[0m\u001b[0;34m\u001b[0m\u001b[0m\n\u001b[1;32m     31\u001b[0m     \u001b[0;32mexcept\u001b[0m \u001b[0mKeyboardInterrupt\u001b[0m\u001b[0;34m:\u001b[0m\u001b[0;34m\u001b[0m\u001b[0m\n",
      "\u001b[0;32m/Library/Frameworks/Python.framework/Versions/2.7/lib/python2.7/site-packages/ws4py/client/__init__.pyc\u001b[0m in \u001b[0;36mconnect\u001b[0;34m(self)\u001b[0m\n\u001b[1;32m    237\u001b[0m \u001b[0;34m\u001b[0m\u001b[0m\n\u001b[1;32m    238\u001b[0m         \u001b[0;32mtry\u001b[0m\u001b[0;34m:\u001b[0m\u001b[0;34m\u001b[0m\u001b[0m\n\u001b[0;32m--> 239\u001b[0;31m             \u001b[0mself\u001b[0m\u001b[0;34m.\u001b[0m\u001b[0mprocess_response_line\u001b[0m\u001b[0;34m(\u001b[0m\u001b[0mresponse_line\u001b[0m\u001b[0;34m)\u001b[0m\u001b[0;34m\u001b[0m\u001b[0m\n\u001b[0m\u001b[1;32m    240\u001b[0m             \u001b[0mself\u001b[0m\u001b[0;34m.\u001b[0m\u001b[0mprotocols\u001b[0m\u001b[0;34m,\u001b[0m \u001b[0mself\u001b[0m\u001b[0;34m.\u001b[0m\u001b[0mextensions\u001b[0m \u001b[0;34m=\u001b[0m \u001b[0mself\u001b[0m\u001b[0;34m.\u001b[0m\u001b[0mprocess_handshake_header\u001b[0m\u001b[0;34m(\u001b[0m\u001b[0mheaders\u001b[0m\u001b[0;34m)\u001b[0m\u001b[0;34m\u001b[0m\u001b[0m\n\u001b[1;32m    241\u001b[0m         \u001b[0;32mexcept\u001b[0m \u001b[0mHandshakeError\u001b[0m\u001b[0;34m:\u001b[0m\u001b[0;34m\u001b[0m\u001b[0m\n",
      "\u001b[0;32m/Library/Frameworks/Python.framework/Versions/2.7/lib/python2.7/site-packages/ws4py/client/__init__.pyc\u001b[0m in \u001b[0;36mprocess_response_line\u001b[0;34m(self, response_line)\u001b[0m\n\u001b[1;32m    305\u001b[0m         \u001b[0mprotocol\u001b[0m\u001b[0;34m,\u001b[0m \u001b[0mcode\u001b[0m\u001b[0;34m,\u001b[0m \u001b[0mstatus\u001b[0m \u001b[0;34m=\u001b[0m \u001b[0mresponse_line\u001b[0m\u001b[0;34m.\u001b[0m\u001b[0msplit\u001b[0m\u001b[0;34m(\u001b[0m\u001b[0;34mb' '\u001b[0m\u001b[0;34m,\u001b[0m \u001b[0;36m2\u001b[0m\u001b[0;34m)\u001b[0m\u001b[0;34m\u001b[0m\u001b[0m\n\u001b[1;32m    306\u001b[0m         \u001b[0;32mif\u001b[0m \u001b[0mcode\u001b[0m \u001b[0;34m!=\u001b[0m \u001b[0;34mb'101'\u001b[0m\u001b[0;34m:\u001b[0m\u001b[0;34m\u001b[0m\u001b[0m\n\u001b[0;32m--> 307\u001b[0;31m             \u001b[0;32mraise\u001b[0m \u001b[0mHandshakeError\u001b[0m\u001b[0;34m(\u001b[0m\u001b[0;34m\"Invalid response status: %s %s\"\u001b[0m \u001b[0;34m%\u001b[0m \u001b[0;34m(\u001b[0m\u001b[0mcode\u001b[0m\u001b[0;34m,\u001b[0m \u001b[0mstatus\u001b[0m\u001b[0;34m)\u001b[0m\u001b[0;34m)\u001b[0m\u001b[0;34m\u001b[0m\u001b[0m\n\u001b[0m\u001b[1;32m    308\u001b[0m \u001b[0;34m\u001b[0m\u001b[0m\n\u001b[1;32m    309\u001b[0m     \u001b[0;32mdef\u001b[0m \u001b[0mprocess_handshake_header\u001b[0m\u001b[0;34m(\u001b[0m\u001b[0mself\u001b[0m\u001b[0;34m,\u001b[0m \u001b[0mheaders\u001b[0m\u001b[0;34m)\u001b[0m\u001b[0;34m:\u001b[0m\u001b[0;34m\u001b[0m\u001b[0m\n",
      "\u001b[0;31mHandshakeError\u001b[0m: Invalid response status: 404 Not Found"
     ]
    }
   ],
   "source": [
    "class Client(WebSocketClient):\n",
    "\n",
    "    def __init__(self, url):\n",
    "        WebSocketClient.__init__(self, url)\n",
    "        # self.flag = 0\n",
    "\n",
    "    def opened(self):\n",
    "        req = '{\"stream\":\"depth\"}' \n",
    "        self.send(req)\n",
    "\n",
    "    def closed(self, code, reason=None):\n",
    "        print(\"Closed down:\", code, reason)\n",
    "\n",
    "    def received_message(self, resp):\n",
    "        resp = json.loads(str(resp))\n",
    "\n",
    "        with open(\"/Users/sunyan/blockchainAnalytics/Order Book Reconstruction/level2orders_binance.json\",\"a\") as f:\n",
    "                json.dump(resp,f)\n",
    "                f.write(\"\\n\")\n",
    "                print(\"Orders are being downloaded.\")\n",
    "\n",
    "\n",
    "if __name__ == '__main__':\n",
    "    f = open(\"/Users/sunyan/blockchainAnalytics/Order Book Reconstruction/level2orders_binance.json\",\"w\")\n",
    "    f.truncate()\n",
    "    ws = None\n",
    "    try:\n",
    "        ws = Client('wss://stream.binance.com:9443')\n",
    "        ws.connect()\n",
    "        ws.run_forever()\n",
    "    except KeyboardInterrupt:\n",
    "        ws.close()"
   ]
  },
  {
   "cell_type": "code",
   "execution_count": null,
   "metadata": {},
   "outputs": [],
   "source": []
  }
 ],
 "metadata": {
  "kernelspec": {
   "display_name": "Python 2",
   "language": "python",
   "name": "python2"
  },
  "language_info": {
   "codemirror_mode": {
    "name": "ipython",
    "version": 2
   },
   "file_extension": ".py",
   "mimetype": "text/x-python",
   "name": "python",
   "nbconvert_exporter": "python",
   "pygments_lexer": "ipython2",
   "version": "2.7.15"
  }
 },
 "nbformat": 4,
 "nbformat_minor": 2
}
